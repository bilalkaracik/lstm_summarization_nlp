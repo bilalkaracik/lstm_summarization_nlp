{
 "cells": [
  {
   "cell_type": "code",
   "execution_count": 2,
   "id": "18c0a716-19bf-49df-9077-972fd440dbe5",
   "metadata": {},
   "outputs": [],
   "source": [
    "import numpy as np  \n",
    "import pandas as pd \n",
    "import matplotlib.pyplot as plt\n",
    "import re           \n",
    "from bs4 import BeautifulSoup \n",
    "import tensorflow as tf\n",
    "from keras_self_attention import SeqSelfAttention\n",
    "from tensorflow.keras.preprocessing.text import Tokenizer \n",
    "from tensorflow.keras.preprocessing.sequence import pad_sequences\n",
    "from nltk.corpus import stopwords   \n",
    "from tensorflow.keras.layers import Input, LSTM, Embedding, Dense, Concatenate, TimeDistributed, Bidirectional\n",
    "from tensorflow.keras.models import Model\n",
    "from tensorflow.keras.callbacks import EarlyStopping\n",
    "from sklearn.model_selection import train_test_split\n",
    "import warnings\n",
    "pd.set_option(\"display.max_colwidth\", 200)\n",
    "warnings.filterwarnings(\"ignore\")"
   ]
  },
  {
   "cell_type": "code",
   "execution_count": 3,
   "id": "625b00ca-3420-4a57-af82-b48dd43f8522",
   "metadata": {},
   "outputs": [
    {
     "name": "stderr",
     "output_type": "stream",
     "text": [
      "Found cached dataset amazon_reviews_multi (C:/Users/KARACIK/.cache/huggingface/datasets/amazon_reviews_multi/all_languages/1.0.0/724e94f4b0c6c405ce7e476a6c5ef4f87db30799ad49f765094cf9770e0f7609)\n"
     ]
    },
    {
     "data": {
      "application/vnd.jupyter.widget-view+json": {
       "model_id": "9ce08663d5424d57bbfdb77fae32263d",
       "version_major": 2,
       "version_minor": 0
      },
      "text/plain": [
       "  0%|          | 0/3 [00:00<?, ?it/s]"
      ]
     },
     "metadata": {},
     "output_type": "display_data"
    }
   ],
   "source": [
    "# Çalışmada kullanacağım veri setini yükledim.\n",
    "from datasets import load_dataset\n",
    "\n",
    "dataset = load_dataset(\"amazon_reviews_multi\", \"all_languages\")"
   ]
  },
  {
   "cell_type": "code",
   "execution_count": 4,
   "id": "54be3c6c-9a85-4419-bdd7-f302c733c639",
   "metadata": {},
   "outputs": [
    {
     "data": {
      "text/plain": [
       "DatasetDict({\n",
       "    train: Dataset({\n",
       "        features: ['review_id', 'product_id', 'reviewer_id', 'stars', 'review_body', 'review_title', 'language', 'product_category'],\n",
       "        num_rows: 1200000\n",
       "    })\n",
       "    validation: Dataset({\n",
       "        features: ['review_id', 'product_id', 'reviewer_id', 'stars', 'review_body', 'review_title', 'language', 'product_category'],\n",
       "        num_rows: 30000\n",
       "    })\n",
       "    test: Dataset({\n",
       "        features: ['review_id', 'product_id', 'reviewer_id', 'stars', 'review_body', 'review_title', 'language', 'product_category'],\n",
       "        num_rows: 30000\n",
       "    })\n",
       "})"
      ]
     },
     "execution_count": 4,
     "metadata": {},
     "output_type": "execute_result"
    }
   ],
   "source": [
    "# Veri setini tanımaya çalıştım.\n",
    "dataset"
   ]
  },
  {
   "cell_type": "code",
   "execution_count": 5,
   "id": "7be7b89d-8d12-4e01-9f53-e93be26edc85",
   "metadata": {},
   "outputs": [],
   "source": [
    "# Train bölümündeki verileri pandas DataFrame'e dönüştürdüm.\n",
    "train_data = pd.DataFrame(dataset['train'])\n",
    "\n",
    "# Validation bölümündeki verileri pandas DataFrame'e dönüştürdüm.\n",
    "validation_data = pd.DataFrame(dataset['validation'])\n",
    "\n",
    "# Test bölümündeki verileri pandas DataFrame'e dönüştürdüm.\n",
    "test_data = pd.DataFrame(dataset['test'])"
   ]
  },
  {
   "cell_type": "code",
   "execution_count": 6,
   "id": "030e4fe6-bfbb-4921-837b-2f77d16ab9ce",
   "metadata": {},
   "outputs": [],
   "source": [
    "# Sonraki aşamalarda yapacağım işlemleri tüm veri üzerinde yapmak ve veriyi bölme işlemini istediğim gibi yapmak için tüm verileri birleştirdim.\n",
    "data = pd.concat([train_data , validation_data , test_data ])"
   ]
  },
  {
   "cell_type": "code",
   "execution_count": 7,
   "id": "899a7eb3-0bcb-4a2e-a53a-a7a711a94b1d",
   "metadata": {},
   "outputs": [
    {
     "data": {
      "text/html": [
       "<div>\n",
       "<style scoped>\n",
       "    .dataframe tbody tr th:only-of-type {\n",
       "        vertical-align: middle;\n",
       "    }\n",
       "\n",
       "    .dataframe tbody tr th {\n",
       "        vertical-align: top;\n",
       "    }\n",
       "\n",
       "    .dataframe thead th {\n",
       "        text-align: right;\n",
       "    }\n",
       "</style>\n",
       "<table border=\"1\" class=\"dataframe\">\n",
       "  <thead>\n",
       "    <tr style=\"text-align: right;\">\n",
       "      <th></th>\n",
       "      <th>review_id</th>\n",
       "      <th>product_id</th>\n",
       "      <th>reviewer_id</th>\n",
       "      <th>stars</th>\n",
       "      <th>review_body</th>\n",
       "      <th>review_title</th>\n",
       "      <th>language</th>\n",
       "      <th>product_category</th>\n",
       "    </tr>\n",
       "  </thead>\n",
       "  <tbody>\n",
       "    <tr>\n",
       "      <th>0</th>\n",
       "      <td>de_0203609</td>\n",
       "      <td>product_de_0865382</td>\n",
       "      <td>reviewer_de_0267719</td>\n",
       "      <td>1</td>\n",
       "      <td>Armband ist leider nach 1 Jahr kaputt gegangen</td>\n",
       "      <td>Leider nach 1 Jahr kaputt</td>\n",
       "      <td>de</td>\n",
       "      <td>sports</td>\n",
       "    </tr>\n",
       "    <tr>\n",
       "      <th>1</th>\n",
       "      <td>de_0559494</td>\n",
       "      <td>product_de_0678997</td>\n",
       "      <td>reviewer_de_0783625</td>\n",
       "      <td>1</td>\n",
       "      <td>In der Lieferung war nur Ein Akku!</td>\n",
       "      <td>EINS statt ZWEI Akkus!!!</td>\n",
       "      <td>de</td>\n",
       "      <td>home_improvement</td>\n",
       "    </tr>\n",
       "    <tr>\n",
       "      <th>2</th>\n",
       "      <td>de_0238777</td>\n",
       "      <td>product_de_0372235</td>\n",
       "      <td>reviewer_de_0911426</td>\n",
       "      <td>1</td>\n",
       "      <td>Ein Stern, weil gar keine geht nicht. Es handelt sich um gebraucht Waren, die Stein haben so ein Belag drauf, wo man sich dabei denken kann, dass jemand schon die benutzt und nicht Mal richtig gew...</td>\n",
       "      <td>Achtung Abzocke</td>\n",
       "      <td>de</td>\n",
       "      <td>drugstore</td>\n",
       "    </tr>\n",
       "    <tr>\n",
       "      <th>3</th>\n",
       "      <td>de_0477884</td>\n",
       "      <td>product_de_0719501</td>\n",
       "      <td>reviewer_de_0836478</td>\n",
       "      <td>1</td>\n",
       "      <td>Dachte, das wären einfach etwas festere Binden, vielleicht größere Always. Aber die Verpackung ist derartig riesig - wie als hätte man einen riesigen Karton Windeln gekauft... nicht das, was ich w...</td>\n",
       "      <td>Zu viel des Guten</td>\n",
       "      <td>de</td>\n",
       "      <td>drugstore</td>\n",
       "    </tr>\n",
       "    <tr>\n",
       "      <th>4</th>\n",
       "      <td>de_0270868</td>\n",
       "      <td>product_de_0022613</td>\n",
       "      <td>reviewer_de_0736276</td>\n",
       "      <td>1</td>\n",
       "      <td>Meine Kinder haben kaum damit gespielt und nach 6 Monaten riss es an der Naht obwohl ich sehr leichte Kinder habe.</td>\n",
       "      <td>Qualität sehr schlecht</td>\n",
       "      <td>de</td>\n",
       "      <td>toy</td>\n",
       "    </tr>\n",
       "  </tbody>\n",
       "</table>\n",
       "</div>"
      ],
      "text/plain": [
       "    review_id          product_id          reviewer_id  stars  \\\n",
       "0  de_0203609  product_de_0865382  reviewer_de_0267719      1   \n",
       "1  de_0559494  product_de_0678997  reviewer_de_0783625      1   \n",
       "2  de_0238777  product_de_0372235  reviewer_de_0911426      1   \n",
       "3  de_0477884  product_de_0719501  reviewer_de_0836478      1   \n",
       "4  de_0270868  product_de_0022613  reviewer_de_0736276      1   \n",
       "\n",
       "                                                                                                                                                                                               review_body  \\\n",
       "0                                                                                                                                                           Armband ist leider nach 1 Jahr kaputt gegangen   \n",
       "1                                                                                                                                                                       In der Lieferung war nur Ein Akku!   \n",
       "2  Ein Stern, weil gar keine geht nicht. Es handelt sich um gebraucht Waren, die Stein haben so ein Belag drauf, wo man sich dabei denken kann, dass jemand schon die benutzt und nicht Mal richtig gew...   \n",
       "3  Dachte, das wären einfach etwas festere Binden, vielleicht größere Always. Aber die Verpackung ist derartig riesig - wie als hätte man einen riesigen Karton Windeln gekauft... nicht das, was ich w...   \n",
       "4                                                                                       Meine Kinder haben kaum damit gespielt und nach 6 Monaten riss es an der Naht obwohl ich sehr leichte Kinder habe.   \n",
       "\n",
       "                review_title language  product_category  \n",
       "0  Leider nach 1 Jahr kaputt       de            sports  \n",
       "1   EINS statt ZWEI Akkus!!!       de  home_improvement  \n",
       "2            Achtung Abzocke       de         drugstore  \n",
       "3          Zu viel des Guten       de         drugstore  \n",
       "4     Qualität sehr schlecht       de               toy  "
      ]
     },
     "execution_count": 7,
     "metadata": {},
     "output_type": "execute_result"
    }
   ],
   "source": [
    "data.head()"
   ]
  },
  {
   "cell_type": "code",
   "execution_count": 8,
   "id": "7a9f0347-599f-4a84-ba86-fd5a61a286b4",
   "metadata": {},
   "outputs": [],
   "source": [
    "data_en = data[data[\"language\"] == \"en\"]"
   ]
  },
  {
   "cell_type": "code",
   "execution_count": 9,
   "id": "b87a9f91-442c-4f9e-b955-7e5c8bfcfc34",
   "metadata": {},
   "outputs": [
    {
     "data": {
      "text/html": [
       "<div>\n",
       "<style scoped>\n",
       "    .dataframe tbody tr th:only-of-type {\n",
       "        vertical-align: middle;\n",
       "    }\n",
       "\n",
       "    .dataframe tbody tr th {\n",
       "        vertical-align: top;\n",
       "    }\n",
       "\n",
       "    .dataframe thead th {\n",
       "        text-align: right;\n",
       "    }\n",
       "</style>\n",
       "<table border=\"1\" class=\"dataframe\">\n",
       "  <thead>\n",
       "    <tr style=\"text-align: right;\">\n",
       "      <th></th>\n",
       "      <th>review_id</th>\n",
       "      <th>product_id</th>\n",
       "      <th>reviewer_id</th>\n",
       "      <th>stars</th>\n",
       "      <th>review_body</th>\n",
       "      <th>review_title</th>\n",
       "      <th>language</th>\n",
       "      <th>product_category</th>\n",
       "    </tr>\n",
       "  </thead>\n",
       "  <tbody>\n",
       "    <tr>\n",
       "      <th>200000</th>\n",
       "      <td>en_0964290</td>\n",
       "      <td>product_en_0740675</td>\n",
       "      <td>reviewer_en_0342986</td>\n",
       "      <td>1</td>\n",
       "      <td>Arrived broken. Manufacturer defect. Two of the legs of the base were not completely formed, so there was no way to insert the casters. I unpackaged the entire chair and hardware before noticing t...</td>\n",
       "      <td>I'll spend twice the amount of time boxing up the whole useless thing and send it back with a 1-star review ...</td>\n",
       "      <td>en</td>\n",
       "      <td>furniture</td>\n",
       "    </tr>\n",
       "    <tr>\n",
       "      <th>200001</th>\n",
       "      <td>en_0690095</td>\n",
       "      <td>product_en_0440378</td>\n",
       "      <td>reviewer_en_0133349</td>\n",
       "      <td>1</td>\n",
       "      <td>the cabinet dot were all detached from backing... got me</td>\n",
       "      <td>Not use able</td>\n",
       "      <td>en</td>\n",
       "      <td>home_improvement</td>\n",
       "    </tr>\n",
       "    <tr>\n",
       "      <th>200002</th>\n",
       "      <td>en_0311558</td>\n",
       "      <td>product_en_0399702</td>\n",
       "      <td>reviewer_en_0152034</td>\n",
       "      <td>1</td>\n",
       "      <td>I received my first order of this product and it was broke so I ordered it again. The second one was broke in more places than the first. I can't blame the shipping process as it's shrink wrapped ...</td>\n",
       "      <td>The product is junk.</td>\n",
       "      <td>en</td>\n",
       "      <td>home</td>\n",
       "    </tr>\n",
       "    <tr>\n",
       "      <th>200003</th>\n",
       "      <td>en_0044972</td>\n",
       "      <td>product_en_0444063</td>\n",
       "      <td>reviewer_en_0656967</td>\n",
       "      <td>1</td>\n",
       "      <td>This product is a piece of shit. Do not buy. Doesn't work, and then I try to call for customer support, it won't take my number. Fucking rip off!</td>\n",
       "      <td>Fucking waste of money</td>\n",
       "      <td>en</td>\n",
       "      <td>wireless</td>\n",
       "    </tr>\n",
       "    <tr>\n",
       "      <th>200004</th>\n",
       "      <td>en_0784379</td>\n",
       "      <td>product_en_0139353</td>\n",
       "      <td>reviewer_en_0757638</td>\n",
       "      <td>1</td>\n",
       "      <td>went through 3 in one day doesn't fit correct and couldn't get bubbles out (better without)</td>\n",
       "      <td>bubble</td>\n",
       "      <td>en</td>\n",
       "      <td>pc</td>\n",
       "    </tr>\n",
       "  </tbody>\n",
       "</table>\n",
       "</div>"
      ],
      "text/plain": [
       "         review_id          product_id          reviewer_id  stars  \\\n",
       "200000  en_0964290  product_en_0740675  reviewer_en_0342986      1   \n",
       "200001  en_0690095  product_en_0440378  reviewer_en_0133349      1   \n",
       "200002  en_0311558  product_en_0399702  reviewer_en_0152034      1   \n",
       "200003  en_0044972  product_en_0444063  reviewer_en_0656967      1   \n",
       "200004  en_0784379  product_en_0139353  reviewer_en_0757638      1   \n",
       "\n",
       "                                                                                                                                                                                                    review_body  \\\n",
       "200000  Arrived broken. Manufacturer defect. Two of the legs of the base were not completely formed, so there was no way to insert the casters. I unpackaged the entire chair and hardware before noticing t...   \n",
       "200001                                                                                                                                                 the cabinet dot were all detached from backing... got me   \n",
       "200002  I received my first order of this product and it was broke so I ordered it again. The second one was broke in more places than the first. I can't blame the shipping process as it's shrink wrapped ...   \n",
       "200003                                                        This product is a piece of shit. Do not buy. Doesn't work, and then I try to call for customer support, it won't take my number. Fucking rip off!   \n",
       "200004                                                                                                              went through 3 in one day doesn't fit correct and couldn't get bubbles out (better without)   \n",
       "\n",
       "                                                                                                           review_title  \\\n",
       "200000  I'll spend twice the amount of time boxing up the whole useless thing and send it back with a 1-star review ...   \n",
       "200001                                                                                                     Not use able   \n",
       "200002                                                                                             The product is junk.   \n",
       "200003                                                                                           Fucking waste of money   \n",
       "200004                                                                                                           bubble   \n",
       "\n",
       "       language  product_category  \n",
       "200000       en         furniture  \n",
       "200001       en  home_improvement  \n",
       "200002       en              home  \n",
       "200003       en          wireless  \n",
       "200004       en                pc  "
      ]
     },
     "execution_count": 9,
     "metadata": {},
     "output_type": "execute_result"
    }
   ],
   "source": [
    "data_en.head()"
   ]
  },
  {
   "cell_type": "code",
   "execution_count": 10,
   "id": "02d1696e-ea3e-42c8-b399-9f2f0ec1a0fb",
   "metadata": {},
   "outputs": [
    {
     "data": {
      "text/plain": [
       "(210000, 8)"
      ]
     },
     "execution_count": 10,
     "metadata": {},
     "output_type": "execute_result"
    }
   ],
   "source": [
    "data_en.shape"
   ]
  },
  {
   "cell_type": "code",
   "execution_count": 11,
   "id": "fc598239-4143-4977-9beb-cca2fe0d9ada",
   "metadata": {},
   "outputs": [],
   "source": [
    "#data_en = data_en[:100]"
   ]
  },
  {
   "cell_type": "code",
   "execution_count": 12,
   "id": "b19e0f41-2ff6-499d-b22d-ba304c6f4ee9",
   "metadata": {},
   "outputs": [],
   "source": [
    "contraction_mapping = {\"ain't\": \"is not\", \"aren't\": \"are not\",\"can't\": \"cannot\", \"'cause\": \"because\", \"could've\": \"could have\", \"couldn't\": \"could not\",\n",
    "\n",
    "                           \"didn't\": \"did not\", \"doesn't\": \"does not\", \"don't\": \"do not\", \"hadn't\": \"had not\", \"hasn't\": \"has not\", \"haven't\": \"have not\",\n",
    "\n",
    "                           \"he'd\": \"he would\",\"he'll\": \"he will\", \"he's\": \"he is\", \"how'd\": \"how did\", \"how'd'y\": \"how do you\", \"how'll\": \"how will\", \"how's\": \"how is\",\n",
    "\n",
    "                           \"I'd\": \"I would\", \"I'd've\": \"I would have\", \"I'll\": \"I will\", \"I'll've\": \"I will have\",\"I'm\": \"I am\", \"I've\": \"I have\", \"i'd\": \"i would\",\n",
    "\n",
    "                           \"i'd've\": \"i would have\", \"i'll\": \"i will\",  \"i'll've\": \"i will have\",\"i'm\": \"i am\", \"i've\": \"i have\", \"isn't\": \"is not\", \"it'd\": \"it would\",\n",
    "\n",
    "                           \"it'd've\": \"it would have\", \"it'll\": \"it will\", \"it'll've\": \"it will have\",\"it's\": \"it is\", \"let's\": \"let us\", \"ma'am\": \"madam\",\n",
    "\n",
    "                           \"mayn't\": \"may not\", \"might've\": \"might have\",\"mightn't\": \"might not\",\"mightn't've\": \"might not have\", \"must've\": \"must have\",\n",
    "\n",
    "                           \"mustn't\": \"must not\", \"mustn't've\": \"must not have\", \"needn't\": \"need not\", \"needn't've\": \"need not have\",\"o'clock\": \"of the clock\",\n",
    "\n",
    "                           \"oughtn't\": \"ought not\", \"oughtn't've\": \"ought not have\", \"shan't\": \"shall not\", \"sha'n't\": \"shall not\", \"shan't've\": \"shall not have\",\n",
    "\n",
    "                           \"she'd\": \"she would\", \"she'd've\": \"she would have\", \"she'll\": \"she will\", \"she'll've\": \"she will have\", \"she's\": \"she is\",\n",
    "\n",
    "                           \"should've\": \"should have\", \"shouldn't\": \"should not\", \"shouldn't've\": \"should not have\", \"so've\": \"so have\",\"so's\": \"so as\",\n",
    "\n",
    "                           \"this's\": \"this is\",\"that'd\": \"that would\", \"that'd've\": \"that would have\", \"that's\": \"that is\", \"there'd\": \"there would\",\n",
    "\n",
    "                           \"there'd've\": \"there would have\", \"there's\": \"there is\", \"here's\": \"here is\",\"they'd\": \"they would\", \"they'd've\": \"they would have\",\n",
    "\n",
    "                           \"they'll\": \"they will\", \"they'll've\": \"they will have\", \"they're\": \"they are\", \"they've\": \"they have\", \"to've\": \"to have\",\n",
    "\n",
    "                           \"wasn't\": \"was not\", \"we'd\": \"we would\", \"we'd've\": \"we would have\", \"we'll\": \"we will\", \"we'll've\": \"we will have\", \"we're\": \"we are\",\n",
    "\n",
    "                           \"we've\": \"we have\", \"weren't\": \"were not\", \"what'll\": \"what will\", \"what'll've\": \"what will have\", \"what're\": \"what are\",\n",
    "\n",
    "                           \"what's\": \"what is\", \"what've\": \"what have\", \"when's\": \"when is\", \"when've\": \"when have\", \"where'd\": \"where did\", \"where's\": \"where is\",\n",
    "\n",
    "                           \"where've\": \"where have\", \"who'll\": \"who will\", \"who'll've\": \"who will have\", \"who's\": \"who is\", \"who've\": \"who have\",\n",
    "\n",
    "                           \"why's\": \"why is\", \"why've\": \"why have\", \"will've\": \"will have\", \"won't\": \"will not\", \"won't've\": \"will not have\",\n",
    "\n",
    "                           \"would've\": \"would have\", \"wouldn't\": \"would not\", \"wouldn't've\": \"would not have\", \"y'all\": \"you all\",\n",
    "\n",
    "                           \"y'all'd\": \"you all would\",\"y'all'd've\": \"you all would have\",\"y'all're\": \"you all are\",\"y'all've\": \"you all have\",\n",
    "\n",
    "                           \"you'd\": \"you would\", \"you'd've\": \"you would have\", \"you'll\": \"you will\", \"you'll've\": \"you will have\",\n",
    "\n",
    "                           \"you're\": \"you are\", \"you've\": \"you have\"}"
   ]
  },
  {
   "cell_type": "code",
   "execution_count": 13,
   "id": "2b45b115-9f5b-4c56-b540-38a0b0e312fd",
   "metadata": {},
   "outputs": [],
   "source": [
    "stop_words = set(stopwords.words('english')) \n",
    "def text_cleaner(text):\n",
    "    newString = text.lower()\n",
    "    newString = BeautifulSoup(newString, \"lxml\").text\n",
    "    newString = re.sub(r'\\([^)]*\\)', '', newString)\n",
    "    newString = re.sub('\"','', newString)\n",
    "    newString = ' '.join([contraction_mapping[t] if t in contraction_mapping else t for t in newString.split(\" \")])    \n",
    "    newString = re.sub(r\"'s\\b\",\"\",newString)\n",
    "    newString = re.sub(\"[^a-zA-Z]\", \" \", newString) \n",
    "    tokens = [w for w in newString.split() if not w in stop_words]\n",
    "    long_words=[]\n",
    "    for i in tokens:\n",
    "        if len(i)>=3:                  #kısa kelimeleri kaldırma\n",
    "            long_words.append(i)   \n",
    "    return (\" \".join(long_words)).strip()\n",
    "\n",
    "cleaned_review_body = []\n",
    "for t in data_en['review_body']:\n",
    "    cleaned_review_body.append(text_cleaner(t))"
   ]
  },
  {
   "cell_type": "code",
   "execution_count": 14,
   "id": "86e8ff21-d1b8-4d77-954e-5086c4acd3ac",
   "metadata": {},
   "outputs": [
    {
     "data": {
      "text/plain": [
       "200000    I'll spend twice the amount of time boxing up the whole useless thing and send it back with a 1-star review ...\n",
       "200001                                                                                                       Not use able\n",
       "200002                                                                                               The product is junk.\n",
       "200003                                                                                             Fucking waste of money\n",
       "200004                                                                                                             bubble\n",
       "200005                                                                  Poor quality. The material was fuzzy from day one\n",
       "200006                                                                                                    Not reliable ☹️\n",
       "200007                                                                                                     Waste of money\n",
       "200008                                                                                     Picture Doesn’t Represent Well\n",
       "200009                                                                                                Collapses on itself\n",
       "Name: review_title, dtype: object"
      ]
     },
     "execution_count": 14,
     "metadata": {},
     "output_type": "execute_result"
    }
   ],
   "source": [
    "data_en[\"review_title\"][:10]"
   ]
  },
  {
   "cell_type": "code",
   "execution_count": 15,
   "id": "71dbd32c-1ab6-4d88-a26d-3866946dc1a6",
   "metadata": {},
   "outputs": [],
   "source": [
    "def summary_cleaner(text):\n",
    "    newString = re.sub('\"','', text)\n",
    "    newString = ' '.join([contraction_mapping[t] if t in contraction_mapping else t for t in newString.split(\" \")])    \n",
    "    newString = re.sub(r\"'s\\b\",\"\",newString)\n",
    "    newString = re.sub(\"[^a-zA-Z]\", \" \", newString)\n",
    "    newString = newString.lower()\n",
    "    tokens=newString.split()\n",
    "    newString=''\n",
    "    for i in tokens:\n",
    "        if len(i)>1:                                 \n",
    "            newString=newString+i+' '  \n",
    "    return newString\n",
    "\n",
    "#Call the above function\n",
    "cleaned_review_title = []\n",
    "for t in data_en['review_title']:\n",
    "    cleaned_review_title.append(summary_cleaner(t))\n",
    "\n",
    "data_en['cleaned_review_body']=cleaned_review_body\n",
    "data_en['cleaned_review_title']=cleaned_review_title\n",
    "data_en['cleaned_review_title'].replace('', np.nan, inplace=True)\n",
    "data_en.dropna(axis=0,inplace=True)"
   ]
  },
  {
   "cell_type": "code",
   "execution_count": 16,
   "id": "5a122bde-d716-4d79-a573-4b2e8b19d355",
   "metadata": {},
   "outputs": [],
   "source": [
    "data_en['cleaned_review_title'] = data_en['cleaned_review_title'].apply(lambda x : '_START_ '+ x + ' _END_')\n"
   ]
  },
  {
   "cell_type": "code",
   "execution_count": 17,
   "id": "4db7b9e4-1427-419a-8e86-ec61f3cab1cb",
   "metadata": {},
   "outputs": [
    {
     "data": {
      "text/plain": [
       "200000    arrived broken manufacturer defect two legs base completely formed way insert casters unpackaged entire chair hardware noticing spend twice amount time boxing whole useless thing send back star re...\n",
       "200001                                                                                                                                                                           cabinet dot detached backing got\n",
       "200002                                                                                received first order product broke ordered second one broke places first cannot blame shipping process shrink wrapped boxed\n",
       "200003                                                                                                                              product piece shit buy work try call customer support take number fucking rip\n",
       "200004                                                                                                                                                                 went one day fit correct could get bubbles\n",
       "Name: cleaned_review_body, dtype: object"
      ]
     },
     "execution_count": 17,
     "metadata": {},
     "output_type": "execute_result"
    }
   ],
   "source": [
    "data_en[\"cleaned_review_body\"][0:5]"
   ]
  },
  {
   "cell_type": "code",
   "execution_count": 18,
   "id": "b9ab2350-2eef-42c8-b1bd-a36b43b81147",
   "metadata": {},
   "outputs": [
    {
     "data": {
      "text/plain": [
       "200000    _START_ will spend twice the amount of time boxing up the whole useless thing and send it back with star review  _END_\n",
       "200001                                                                                               _START_ not use able  _END_\n",
       "200002                                                                                        _START_ the product is junk  _END_\n",
       "200003                                                                                     _START_ fucking waste of money  _END_\n",
       "200004                                                                                                     _START_ bubble  _END_\n",
       "Name: cleaned_review_title, dtype: object"
      ]
     },
     "execution_count": 18,
     "metadata": {},
     "output_type": "execute_result"
    }
   ],
   "source": [
    "data_en[\"cleaned_review_title\"][0:5]"
   ]
  },
  {
   "cell_type": "code",
   "execution_count": 19,
   "id": "0a644a92-df4b-407f-94ab-09d40b7178f2",
   "metadata": {},
   "outputs": [
    {
     "data": {
      "text/plain": [
       "Index(['review_id', 'product_id', 'reviewer_id', 'stars', 'review_body',\n",
       "       'review_title', 'language', 'product_category', 'cleaned_review_body',\n",
       "       'cleaned_review_title'],\n",
       "      dtype='object')"
      ]
     },
     "execution_count": 19,
     "metadata": {},
     "output_type": "execute_result"
    }
   ],
   "source": [
    "data_en.columns"
   ]
  },
  {
   "cell_type": "code",
   "execution_count": 20,
   "id": "f276f009-ec11-4ac4-839c-e10d2bfbd62e",
   "metadata": {},
   "outputs": [],
   "source": [
    "data_en = data_en.drop(['review_id', 'product_id', 'reviewer_id', 'stars', 'language', 'product_category'] , axis= 1 )"
   ]
  },
  {
   "cell_type": "code",
   "execution_count": 21,
   "id": "29f2fd18-fec3-4228-b8a4-c55f09703f95",
   "metadata": {},
   "outputs": [
    {
     "data": {
      "text/html": [
       "<div>\n",
       "<style scoped>\n",
       "    .dataframe tbody tr th:only-of-type {\n",
       "        vertical-align: middle;\n",
       "    }\n",
       "\n",
       "    .dataframe tbody tr th {\n",
       "        vertical-align: top;\n",
       "    }\n",
       "\n",
       "    .dataframe thead th {\n",
       "        text-align: right;\n",
       "    }\n",
       "</style>\n",
       "<table border=\"1\" class=\"dataframe\">\n",
       "  <thead>\n",
       "    <tr style=\"text-align: right;\">\n",
       "      <th></th>\n",
       "      <th>review_body</th>\n",
       "      <th>review_title</th>\n",
       "      <th>cleaned_review_body</th>\n",
       "      <th>cleaned_review_title</th>\n",
       "    </tr>\n",
       "  </thead>\n",
       "  <tbody>\n",
       "    <tr>\n",
       "      <th>200000</th>\n",
       "      <td>Arrived broken. Manufacturer defect. Two of the legs of the base were not completely formed, so there was no way to insert the casters. I unpackaged the entire chair and hardware before noticing t...</td>\n",
       "      <td>I'll spend twice the amount of time boxing up the whole useless thing and send it back with a 1-star review ...</td>\n",
       "      <td>arrived broken manufacturer defect two legs base completely formed way insert casters unpackaged entire chair hardware noticing spend twice amount time boxing whole useless thing send back star re...</td>\n",
       "      <td>_START_ will spend twice the amount of time boxing up the whole useless thing and send it back with star review  _END_</td>\n",
       "    </tr>\n",
       "    <tr>\n",
       "      <th>200001</th>\n",
       "      <td>the cabinet dot were all detached from backing... got me</td>\n",
       "      <td>Not use able</td>\n",
       "      <td>cabinet dot detached backing got</td>\n",
       "      <td>_START_ not use able  _END_</td>\n",
       "    </tr>\n",
       "    <tr>\n",
       "      <th>200002</th>\n",
       "      <td>I received my first order of this product and it was broke so I ordered it again. The second one was broke in more places than the first. I can't blame the shipping process as it's shrink wrapped ...</td>\n",
       "      <td>The product is junk.</td>\n",
       "      <td>received first order product broke ordered second one broke places first cannot blame shipping process shrink wrapped boxed</td>\n",
       "      <td>_START_ the product is junk  _END_</td>\n",
       "    </tr>\n",
       "    <tr>\n",
       "      <th>200003</th>\n",
       "      <td>This product is a piece of shit. Do not buy. Doesn't work, and then I try to call for customer support, it won't take my number. Fucking rip off!</td>\n",
       "      <td>Fucking waste of money</td>\n",
       "      <td>product piece shit buy work try call customer support take number fucking rip</td>\n",
       "      <td>_START_ fucking waste of money  _END_</td>\n",
       "    </tr>\n",
       "    <tr>\n",
       "      <th>200004</th>\n",
       "      <td>went through 3 in one day doesn't fit correct and couldn't get bubbles out (better without)</td>\n",
       "      <td>bubble</td>\n",
       "      <td>went one day fit correct could get bubbles</td>\n",
       "      <td>_START_ bubble  _END_</td>\n",
       "    </tr>\n",
       "  </tbody>\n",
       "</table>\n",
       "</div>"
      ],
      "text/plain": [
       "                                                                                                                                                                                                    review_body  \\\n",
       "200000  Arrived broken. Manufacturer defect. Two of the legs of the base were not completely formed, so there was no way to insert the casters. I unpackaged the entire chair and hardware before noticing t...   \n",
       "200001                                                                                                                                                 the cabinet dot were all detached from backing... got me   \n",
       "200002  I received my first order of this product and it was broke so I ordered it again. The second one was broke in more places than the first. I can't blame the shipping process as it's shrink wrapped ...   \n",
       "200003                                                        This product is a piece of shit. Do not buy. Doesn't work, and then I try to call for customer support, it won't take my number. Fucking rip off!   \n",
       "200004                                                                                                              went through 3 in one day doesn't fit correct and couldn't get bubbles out (better without)   \n",
       "\n",
       "                                                                                                           review_title  \\\n",
       "200000  I'll spend twice the amount of time boxing up the whole useless thing and send it back with a 1-star review ...   \n",
       "200001                                                                                                     Not use able   \n",
       "200002                                                                                             The product is junk.   \n",
       "200003                                                                                           Fucking waste of money   \n",
       "200004                                                                                                           bubble   \n",
       "\n",
       "                                                                                                                                                                                            cleaned_review_body  \\\n",
       "200000  arrived broken manufacturer defect two legs base completely formed way insert casters unpackaged entire chair hardware noticing spend twice amount time boxing whole useless thing send back star re...   \n",
       "200001                                                                                                                                                                         cabinet dot detached backing got   \n",
       "200002                                                                              received first order product broke ordered second one broke places first cannot blame shipping process shrink wrapped boxed   \n",
       "200003                                                                                                                            product piece shit buy work try call customer support take number fucking rip   \n",
       "200004                                                                                                                                                               went one day fit correct could get bubbles   \n",
       "\n",
       "                                                                                                          cleaned_review_title  \n",
       "200000  _START_ will spend twice the amount of time boxing up the whole useless thing and send it back with star review  _END_  \n",
       "200001                                                                                             _START_ not use able  _END_  \n",
       "200002                                                                                      _START_ the product is junk  _END_  \n",
       "200003                                                                                   _START_ fucking waste of money  _END_  \n",
       "200004                                                                                                   _START_ bubble  _END_  "
      ]
     },
     "execution_count": 21,
     "metadata": {},
     "output_type": "execute_result"
    }
   ],
   "source": [
    "data_en.head()"
   ]
  },
  {
   "cell_type": "code",
   "execution_count": 22,
   "id": "2edf9771-6807-48a4-a463-7d14b2b97992",
   "metadata": {},
   "outputs": [
    {
     "data": {
      "image/png": "[encoded data removed]",
      "text/plain": [
       "<Figure size 640x480 with 2 Axes>"
      ]
     },
     "metadata": {},
     "output_type": "display_data"
    }
   ],
   "source": [
    "review_body_word_count = []\n",
    "review_title_word_count = []\n",
    "\n",
    "# populate the lists with sentence lengths\n",
    "for i in data_en['cleaned_review_body']:\n",
    "      review_body_word_count.append(len(i.split()))\n",
    "\n",
    "for i in data_en['cleaned_review_title']:\n",
    "      review_title_word_count.append(len(i.split()))\n",
    "\n",
    "length_df = pd.DataFrame({'body':review_body_word_count, 'title':review_title_word_count})\n",
    "length_df.hist(bins = 30)\n",
    "plt.show()"
   ]
  },
  {
   "cell_type": "code",
   "execution_count": 23,
   "id": "a9e40aae-1cc2-468b-81b0-dc8f1586b8dc",
   "metadata": {},
   "outputs": [],
   "source": [
    "max_len_body = 200\n",
    "max_len_title = 25\n",
    "latent_dim = 128\n"
   ]
  },
  {
   "cell_type": "code",
   "execution_count": 24,
   "id": "c7f8457f-98ac-4446-a968-4746dbe3ffc7",
   "metadata": {},
   "outputs": [],
   "source": [
    "x_train, x_val, y_train, y_val = train_test_split(data_en['cleaned_review_body'], data_en['cleaned_review_title'], test_size=0.2, random_state=42, shuffle=True)\n"
   ]
  },
  {
   "cell_type": "code",
   "execution_count": 25,
   "id": "369b0bd9-8835-4cd5-94af-35d170b1d98d",
   "metadata": {},
   "outputs": [
    {
     "data": {
      "text/plain": [
       "(167535,)"
      ]
     },
     "execution_count": 25,
     "metadata": {},
     "output_type": "execute_result"
    }
   ],
   "source": [
    "x_train.shape"
   ]
  },
  {
   "cell_type": "code",
   "execution_count": 26,
   "id": "dc9a8f68-6d8e-4a60-80cf-580e6ea7ff05",
   "metadata": {},
   "outputs": [
    {
     "data": {
      "text/plain": [
       "(41884,)"
      ]
     },
     "execution_count": 26,
     "metadata": {},
     "output_type": "execute_result"
    }
   ],
   "source": [
    "x_val.shape"
   ]
  },
  {
   "cell_type": "code",
   "execution_count": 27,
   "id": "7d6eb677-443d-461b-96c4-c4c96df6f402",
   "metadata": {},
   "outputs": [
    {
     "data": {
      "text/plain": [
       "(167535,)"
      ]
     },
     "execution_count": 27,
     "metadata": {},
     "output_type": "execute_result"
    }
   ],
   "source": [
    "y_train.shape"
   ]
  },
  {
   "cell_type": "code",
   "execution_count": 28,
   "id": "0e3ff9a5-0926-4a2b-a921-60857b148628",
   "metadata": {},
   "outputs": [
    {
     "data": {
      "text/plain": [
       "(41884,)"
      ]
     },
     "execution_count": 28,
     "metadata": {},
     "output_type": "execute_result"
    }
   ],
   "source": [
    "y_val.shape"
   ]
  },
  {
   "cell_type": "code",
   "execution_count": 29,
   "id": "1952a790-41d7-41f1-ba2b-5b0aa3f6064a",
   "metadata": {},
   "outputs": [
    {
     "data": {
      "text/plain": [
       "pandas.core.frame.DataFrame"
      ]
     },
     "execution_count": 29,
     "metadata": {},
     "output_type": "execute_result"
    }
   ],
   "source": [
    "type(data_en)"
   ]
  },
  {
   "cell_type": "code",
   "execution_count": 30,
   "id": "3db192eb-3b64-47c5-87f8-8d464ba61299",
   "metadata": {},
   "outputs": [
    {
     "name": "stdout",
     "output_type": "stream",
     "text": [
      "Model: \"model\"\n",
      "__________________________________________________________________________________________________\n",
      " Layer (type)                   Output Shape         Param #     Connected to                     \n",
      "==================================================================================================\n",
      " input_1 (InputLayer)           [(None, 200)]        0           []                               \n",
      "                                                                                                  \n",
      " input_2 (InputLayer)           [(None, 25)]         0           []                               \n",
      "                                                                                                  \n",
      " embedding (Embedding)          (None, 200, 128)     4841088     ['input_1[0][0]']                \n",
      "                                                                                                  \n",
      " embedding_1 (Embedding)        (None, 25, 128)      2403584     ['input_2[0][0]']                \n",
      "                                                                                                  \n",
      " lstm (LSTM)                    [(None, 200, 128),   131584      ['embedding[0][0]']              \n",
      "                                 (None, 128),                                                     \n",
      "                                 (None, 128)]                                                     \n",
      "                                                                                                  \n",
      " lstm_1 (LSTM)                  [(None, 25, 128),    131584      ['embedding_1[0][0]',            \n",
      "                                 (None, 128),                     'lstm[0][1]',                   \n",
      "                                 (None, 128)]                     'lstm[0][2]']                   \n",
      "                                                                                                  \n",
      " dense (Dense)                  (None, 25, 18778)    2422362     ['lstm_1[0][0]']                 \n",
      "                                                                                                  \n",
      "==================================================================================================\n",
      "Total params: 9,930,202\n",
      "Trainable params: 9,930,202\n",
      "Non-trainable params: 0\n",
      "__________________________________________________________________________________________________\n"
     ]
    }
   ],
   "source": [
    "# Review Body için Tokenizer ve dönüşüm\n",
    "x_tokenizer = Tokenizer()\n",
    "x_tokenizer.fit_on_texts(x_train)\n",
    "x_train_sequences = x_tokenizer.texts_to_sequences(x_train)\n",
    "x_val_sequences = x_tokenizer.texts_to_sequences(x_val)\n",
    "x_voc_size = len(x_tokenizer.word_index) + 1\n",
    "max_len_body = 200\n",
    "x_train_padded = pad_sequences(x_train_sequences, maxlen=max_len_body, padding='post')\n",
    "x_val_padded = pad_sequences(x_val_sequences, maxlen=max_len_body, padding='post')\n",
    "\n",
    "# Review Title için Tokenizer ve dönüşüm\n",
    "y_tokenizer = Tokenizer()\n",
    "y_tokenizer.fit_on_texts(y_train)\n",
    "y_train_sequences = y_tokenizer.texts_to_sequences(y_train)\n",
    "y_val_sequences = y_tokenizer.texts_to_sequences(y_val)\n",
    "y_voc_size = len(y_tokenizer.word_index) + 1\n",
    "max_len_title = 25\n",
    "y_train_padded = pad_sequences(y_train_sequences, maxlen=max_len_title, padding='post')\n",
    "y_val_padded = pad_sequences(y_val_sequences, maxlen=max_len_title, padding='post')\n",
    "\n",
    "# Encoder\n",
    "encoder_inputs = Input(shape=(max_len_body,))\n",
    "encoder_embedding = Embedding(x_voc_size, latent_dim)(encoder_inputs)\n",
    "encoder_lstm = LSTM(latent_dim, return_sequences=True, return_state=True)\n",
    "encoder_outputs, state_h, state_c = encoder_lstm(encoder_embedding)\n",
    "encoder_states = [state_h, state_c]\n",
    "\n",
    "# Decoder\n",
    "decoder_inputs = Input(shape=(max_len_title,))\n",
    "decoder_embedding = Embedding(y_voc_size, latent_dim)(decoder_inputs)\n",
    "decoder_lstm = LSTM(latent_dim, return_sequences=True, return_state=True)\n",
    "decoder_outputs, _, _ = decoder_lstm(decoder_embedding, initial_state=encoder_states)\n",
    "decoder_dense = Dense(y_voc_size, activation='softmax')\n",
    "decoder_outputs = decoder_dense(decoder_outputs)\n",
    "\n",
    "# Model oluşturma\n",
    "model = Model([encoder_inputs, decoder_inputs], decoder_outputs)\n",
    "model.summary()\n"
   ]
  },
  {
   "cell_type": "code",
   "execution_count": 31,
   "id": "84f0e77d-7df3-450b-81d5-66d5b0c4f3e0",
   "metadata": {},
   "outputs": [],
   "source": [
    "# Modeli derleme\n",
    "optimizer = 'adam'  # İstediğiniz optimizer'ı seçebilirsiniz\n",
    "loss = 'sparse_categorical_crossentropy'  # İstediğiniz loss fonksiyonunu seçebilirsiniz\n",
    "model.compile(optimizer=optimizer, loss=loss)\n",
    "es = EarlyStopping(monitor='val_loss', mode='min', verbose=1)\n"
   ]
  },
  {
   "cell_type": "code",
   "execution_count": 107,
   "id": "234250dc-e6e9-409e-b9ed-cf39ef7ed253",
   "metadata": {},
   "outputs": [
    {
     "name": "stdout",
     "output_type": "stream",
     "text": [
      "(167535, 200)\n",
      "(41884, 200)\n",
      "(167535, 25)\n",
      "(41884, 25)\n"
     ]
    }
   ],
   "source": [
    "print(x_train_padded.shape)\n",
    "print(x_val_padded.shape)\n",
    "print(y_train_padded.shape)\n",
    "print(y_val_padded.shape)\n"
   ]
  },
  {
   "cell_type": "code",
   "execution_count": 33,
   "id": "3d920544-6970-4596-addf-d8405b3c2cd8",
   "metadata": {
    "scrolled": true,
    "tags": []
   },
   "outputs": [
    {
     "name": "stdout",
     "output_type": "stream",
     "text": [
      "Epoch 1/3\n",
      "2618/2618 [==============================] - 4763s 2s/step - loss: 0.8313 - val_loss: 0.3320\n",
      "Epoch 2/3\n",
      "2618/2618 [==============================] - 4583s 2s/step - loss: 0.2248 - val_loss: 0.1163\n",
      "Epoch 3/3\n",
      "2618/2618 [==============================] - 4669s 2s/step - loss: 0.0910 - val_loss: 0.0458\n"
     ]
    }
   ],
   "source": [
    "history = model.fit(\n",
    "    x=[x_train_padded, y_train_padded],\n",
    "    y=np.expand_dims(y_train_padded, axis=-1),\n",
    "    epochs=3,\n",
    "    batch_size=512,\n",
    "    callbacks=[es],\n",
    "    validation_data=([x_val_padded, y_val_padded], np.expand_dims(y_val_padded, axis=-1)),\n",
    "    shuffle=True\n",
    ")\n"
   ]
  },
  {
   "cell_type": "code",
   "execution_count": 34,
   "id": "e8cf0d6f-558e-487e-ac82-0fe31546f9c7",
   "metadata": {},
   "outputs": [
    {
     "data": {
      "image/png": "[encoded data removed]",
      "text/plain": [
       "<Figure size 640x480 with 1 Axes>"
      ]
     },
     "metadata": {},
     "output_type": "display_data"
    }
   ],
   "source": [
    "plt.plot(history.history['loss'], label='train')\n",
    "plt.plot(history.history['val_loss'], label='test')\n",
    "plt.legend()\n",
    "plt.show()\n"
   ]
  },
  {
   "cell_type": "code",
   "execution_count": 159,
   "id": "5a225d62-2a7d-4c2f-8711-d6d28d640e69",
   "metadata": {},
   "outputs": [],
   "source": [
    "model.save('model.h5')"
   ]
  }
 ],
 "metadata": {
  "kernelspec": {
   "display_name": "Python 3 (ipykernel)",
   "language": "python",
   "name": "python3"
  },
  "language_info": {
   "codemirror_mode": {
    "name": "ipython",
    "version": 3
   },
   "file_extension": ".py",
   "mimetype": "text/x-python",
   "name": "python",
   "nbconvert_exporter": "python",
   "pygments_lexer": "ipython3",
   "version": "3.10.9"
  }
 },
 "nbformat": 4,
 "nbformat_minor": 5
}
